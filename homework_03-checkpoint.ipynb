{
 "cells": [
  {
   "cell_type": "code",
   "execution_count": 7,
   "metadata": {},
   "outputs": [
    {
     "name": "stdout",
     "output_type": "stream",
     "text": [
      "input number\n",
      "-2\n",
      "-2\n"
     ]
    }
   ],
   "source": [
    "#Homework_3.1\n",
    "print ('input number')\n",
    "number = int(input())\n",
    "if number >0:\n",
    "    number*=number\n",
    "    print(number)\n",
    "else:\n",
    "    print (number)"
   ]
  },
  {
   "cell_type": "code",
   "execution_count": 9,
   "metadata": {},
   "outputs": [
    {
     "name": "stdout",
     "output_type": "stream",
     "text": [
      "input number1\n",
      "3\n",
      "input number2\n",
      "3\n",
      "0\n",
      "0\n"
     ]
    }
   ],
   "source": [
    "#Homework_3.2\n",
    "    #Дано два цілих числа. Якщо вони рівні, то присвоїти цим змінним нулі;\n",
    "    # в іншому випадку  - кожній змінній присвоїти суму цих значень.\n",
    "print ('input number1')\n",
    "number1 = int(input())\n",
    "print ('input number2')\n",
    "number2 = int(input())\n",
    "if number1==number2:\n",
    "    number1=number2=0\n",
    "    print (number1)\n",
    "    print (number2)\n",
    "else:\n",
    "    number1=number1*number2\n",
    "    number2=number1\n",
    "    print (number1)\n",
    "    print (number2)"
   ]
  },
  {
   "cell_type": "code",
   "execution_count": 16,
   "metadata": {},
   "outputs": [
    {
     "name": "stdout",
     "output_type": "stream",
     "text": [
      "input a\n",
      "0\n",
      "input b\n",
      "5\n",
      "input c\n",
      "1\n",
      "6\n"
     ]
    }
   ],
   "source": [
    "#Homework_3.3\n",
    "#Дано три цілих числа. Знайти суму двох найбільших із них.\n",
    "print ('input a')\n",
    "a = int(input())\n",
    "print ('input b')\n",
    "b = int(input())\n",
    "print ('input c')\n",
    "c = int(input())\n",
    "if a>b:\n",
    "    a,b=b,a\n",
    "if b>c:\n",
    "    b,c=c,b\n",
    "if a>b:\n",
    "    a,b=b,a\n",
    "sum=b+c\n",
    "print (sum)"
   ]
  },
  {
   "cell_type": "code",
   "execution_count": 21,
   "metadata": {},
   "outputs": [
    {
     "name": "stdout",
     "output_type": "stream",
     "text": [
      "input stirng\n",
      "asdffghas\n",
      "0 7\n"
     ]
    }
   ],
   "source": [
    "#Homework_3.4\n",
    "#Дана стрічка. Якщо в цій стрічці відсутня буква \"a\", вивести \"False\".\n",
    "#Якщо буква зустрічається один раз - вивести її індекс.\n",
    "#Якщо більше одного разу - вивести індекс першого та останнього входження.\n",
    "print ('input stirng')\n",
    "str = input()\n",
    "if str.count('a') ==0:\n",
    "    print ('False')\n",
    "elif str.count('a') ==1:\n",
    "    print (str.find('a'))\n",
    "else:\n",
    "    print (str.find('a'),str.rfind('a'))\n"
   ]
  },
  {
   "cell_type": "code",
   "execution_count": 26,
   "metadata": {},
   "outputs": [
    {
     "name": "stdout",
     "output_type": "stream",
     "text": [
      "input price\n",
      "5\n",
      "1 kg  5\n",
      "2 kg  10\n",
      "3 kg  15\n",
      "4 kg  20\n",
      "5 kg  25\n",
      "6 kg  30\n",
      "7 kg  35\n",
      "8 kg  40\n",
      "9 kg  45\n",
      "10 kg  50\n"
     ]
    }
   ],
   "source": [
    "#Homework_3.5.1\n",
    "#Дано одне число Price - ціна на 1 кг апельсин. \n",
    "#Вивести вартість 1, 2, ... , 10 кг апельсин.\n",
    "#(Спробуйте вирішити задачу двома способами: циклом FOR та циклом WHILE)\n",
    "print ('input price')\n",
    "price = input()\n",
    "for i in range (1,11):\n",
    "    print (i, 'kg ', int(price)*i)"
   ]
  },
  {
   "cell_type": "code",
   "execution_count": 32,
   "metadata": {},
   "outputs": [
    {
     "name": "stdout",
     "output_type": "stream",
     "text": [
      "input price\n",
      "5\n",
      "1 kg  5\n",
      "2 kg  10\n",
      "3 kg  15\n",
      "4 kg  20\n",
      "5 kg  25\n",
      "6 kg  30\n",
      "7 kg  35\n",
      "8 kg  40\n",
      "9 kg  45\n",
      "10 kg  50\n"
     ]
    }
   ],
   "source": [
    "#Homework_3.5.1\n",
    "print ('input price')\n",
    "price = input()\n",
    "i=1\n",
    "while i<=10:\n",
    "    print (i, 'kg ', int(price)*i)\n",
    "    i=i+1"
   ]
  },
  {
   "cell_type": "code",
   "execution_count": 35,
   "metadata": {},
   "outputs": [
    {
     "name": "stdout",
     "output_type": "stream",
     "text": [
      "input number\n",
      "6\n",
      "6\n",
      "66\n",
      "666\n",
      "6666\n",
      "66666\n"
     ]
    }
   ],
   "source": [
    "#Homework_3.6\n",
    "#Дано ціле число. Для цього числа виведіть сходинки.\n",
    "print ('input number')\n",
    "number = input()\n",
    "for i in range (1,int(number)):\n",
    "    print (number*i)"
   ]
  },
  {
   "cell_type": "code",
   "execution_count": 37,
   "metadata": {},
   "outputs": [
    {
     "name": "stdout",
     "output_type": "stream",
     "text": [
      "5\n",
      "10\n",
      "15\n",
      "20\n",
      "25\n",
      "30\n",
      "35\n",
      "40\n",
      "45\n",
      "50\n"
     ]
    }
   ],
   "source": [
    "#Homework_3.7\n",
    "#Виведіть суму всіх непарних чисел, що кратні 5, в діапазоні від 0 до 1000.\n",
    "i=0\n",
    "while i<1000:\n",
    "    print (i+5)\n",
    "    i=i+5"
   ]
  },
  {
   "cell_type": "code",
   "execution_count": 62,
   "metadata": {},
   "outputs": [
    {
     "name": "stdout",
     "output_type": "stream",
     "text": [
      "Last quarantine day overall run=  7931.546485857459 meters\n",
      "You should run 24 days\n"
     ]
    }
   ],
   "source": [
    "#Homework_3.8\n",
    "#    На карантині я розпочав бігові тренування. В перший день пробіг 500 метрів.\n",
    "#    Кожний наступний день дистанцію збільшую на 10%. Відомо, що карантин триває 30 днів.\n",
    "#    \n",
    "#        - Яку дистанцію я пробіжу в останній день карантину?\n",
    "#        \n",
    "#        - Скільки днів потрібно бігати, щоб сумарна дистанція за всі дні \n",
    "#            перевищила довжину марафону (42 км)?\n",
    "dayly_run=500\n",
    "day=1\n",
    "overall_per_day=0\n",
    "percent=0\n",
    "while day<30:\n",
    "    percent=dayly_run* 0.1\n",
    "    overall_per_day=dayly_run + percent\n",
    "    day+=1\n",
    "    dayly_run=overall_per_day\n",
    "print ('Last quarantine day overall run= ',overall_per_day, 'meters')\n",
    "dayly_run=500\n",
    "overall_run=0\n",
    "day=1\n",
    "overall_per_day=0\n",
    "percent=0\n",
    "while overall_run < 42000:\n",
    "    percent=dayly_run* 0.1\n",
    "    overall_per_day=dayly_run + percent\n",
    "    day+=1\n",
    "    dayly_run=overall_per_day\n",
    "    overall_run+=overall_per_day\n",
    "print ('You should run',day,'days')"
   ]
  },
  {
   "cell_type": "code",
   "execution_count": 66,
   "metadata": {},
   "outputs": [
    {
     "name": "stdout",
     "output_type": "stream",
     "text": [
      "0\n"
     ]
    }
   ],
   "source": [
    "#Homework_3.9\n",
    "# Виведіть добуток всіх цілих чисел для послідовності -23, -22, -21, -20, ..., 8, 9, 10, 11, 12\n",
    "product=1\n",
    "for i in range (-23,13,1):\n",
    "    product*=i\n",
    "print (product)\n",
    "    "
   ]
  },
  {
   "cell_type": "code",
   "execution_count": 67,
   "metadata": {},
   "outputs": [
    {
     "data": {
      "text/plain": [
       "'C:\\\\Users\\\\sergii.perebyinis'"
      ]
     },
     "execution_count": 67,
     "metadata": {},
     "output_type": "execute_result"
    }
   ],
   "source": [
    "%pwd"
   ]
  },
  {
   "cell_type": "code",
   "execution_count": null,
   "metadata": {},
   "outputs": [],
   "source": []
  }
 ],
 "metadata": {
  "kernelspec": {
   "display_name": "Python 3",
   "language": "python",
   "name": "python3"
  },
  "language_info": {
   "codemirror_mode": {
    "name": "ipython",
    "version": 3
   },
   "file_extension": ".py",
   "mimetype": "text/x-python",
   "name": "python",
   "nbconvert_exporter": "python",
   "pygments_lexer": "ipython3",
   "version": "3.8.3"
  }
 },
 "nbformat": 4,
 "nbformat_minor": 4
}
